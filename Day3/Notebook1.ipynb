{
  "nbformat": 4,
  "nbformat_minor": 0,
  "metadata": {
    "colab": {
      "provenance": []
    },
    "kernelspec": {
      "name": "python3",
      "display_name": "Python 3"
    },
    "language_info": {
      "name": "python"
    }
  },
  "cells": [
    {
      "cell_type": "markdown",
      "source": [
        "## Understanding Collection"
      ],
      "metadata": {
        "id": "h47sMjSm8djN"
      }
    },
    {
      "cell_type": "code",
      "execution_count": null,
      "metadata": {
        "colab": {
          "base_uri": "https://localhost:8080/"
        },
        "id": "wTlrCSlt6vie",
        "outputId": "cbf64849-bd97-49b4-9134-de38b03e40a1"
      },
      "outputs": [
        {
          "output_type": "stream",
          "name": "stdout",
          "text": [
            "['joseph', 'Glenn', 'Sally']\n",
            "['socks', 'shirt', 'perfume']\n"
          ]
        }
      ],
      "source": [
        "friends = ['joseph', 'Glenn', 'Sally']\n",
        "carryon = ['socks', 'shirt', 'perfume']\n",
        "\n",
        "print(friends)\n",
        "print(carryon)"
      ]
    },
    {
      "cell_type": "code",
      "source": [
        "x=2\n",
        "x='hello'\n",
        "x=4\n",
        "print(x)"
      ],
      "metadata": {
        "colab": {
          "base_uri": "https://localhost:8080/"
        },
        "id": "PNAHZ1v27HTG",
        "outputId": "3f3bd7c4-8453-42c8-f06b-e7a7162e670f"
      },
      "execution_count": null,
      "outputs": [
        {
          "output_type": "stream",
          "name": "stdout",
          "text": [
            "4\n"
          ]
        }
      ]
    },
    {
      "cell_type": "code",
      "source": [
        "print([1,24,76])\n",
        "print(['red', 'yellow', 'blue'])\n",
        "print(['red', 24, 98.6])\n",
        "print([1, [5,6], 7])\n",
        "print([])\n"
      ],
      "metadata": {
        "colab": {
          "base_uri": "https://localhost:8080/"
        },
        "id": "oWQwjvz07U0S",
        "outputId": "28b6d8a8-8d77-444e-ab88-1ade0ec7146e"
      },
      "execution_count": null,
      "outputs": [
        {
          "output_type": "stream",
          "name": "stdout",
          "text": [
            "[1, 24, 76]\n",
            "['red', 'yellow', 'blue']\n",
            "['red', 24, 98.6]\n",
            "[1, [5, 6], 7]\n",
            "[]\n"
          ]
        }
      ]
    },
    {
      "cell_type": "code",
      "source": [],
      "metadata": {
        "id": "ZY6IYW1R7eez"
      },
      "execution_count": null,
      "outputs": []
    },
    {
      "cell_type": "markdown",
      "source": [
        "## List"
      ],
      "metadata": {
        "id": "ClD-V9GI8wEE"
      }
    },
    {
      "cell_type": "code",
      "source": [
        "for i in [5,4,3,2,1]:\n",
        "  print(i)\n",
        "print(\"Blastoff\")\n",
        "\n"
      ],
      "metadata": {
        "colab": {
          "base_uri": "https://localhost:8080/"
        },
        "id": "RO_YJbVk8xFi",
        "outputId": "3aeef734-6932-4ccf-9f93-2b5f3c63b369"
      },
      "execution_count": null,
      "outputs": [
        {
          "output_type": "stream",
          "name": "stdout",
          "text": [
            "5\n",
            "4\n",
            "3\n",
            "2\n",
            "1\n",
            "Blastoff\n",
            "Happy New Year:  joseph\n",
            "Happy New Year:  Glenn\n",
            "Happy New Year:  Sally\n",
            "Done!\n"
          ]
        }
      ]
    },
    {
      "cell_type": "code",
      "source": [
        "\n",
        "friends = ['joseph', 'Glenn', 'Sally']\n",
        "for friend in friends:\n",
        "  print(\"Happy New Year: \", friend)\n",
        "print(\"Done!\")"
      ],
      "metadata": {
        "colab": {
          "base_uri": "https://localhost:8080/"
        },
        "id": "fPOC7MWI86Ss",
        "outputId": "8cac4aa6-f327-44ec-e8e4-52d2bb392eb2"
      },
      "execution_count": null,
      "outputs": [
        {
          "output_type": "stream",
          "name": "stdout",
          "text": [
            "Happy New Year:  joseph\n",
            "Happy New Year:  Glenn\n",
            "Happy New Year:  Sally\n",
            "Done!\n"
          ]
        }
      ]
    },
    {
      "cell_type": "code",
      "source": [
        "friends = ['joseph', 'Glenn', 'Sally']\n",
        "print(friends[1])"
      ],
      "metadata": {
        "colab": {
          "base_uri": "https://localhost:8080/"
        },
        "id": "egRp6Qwq9azD",
        "outputId": "e6dc633b-1b8c-4720-8cec-597b7798b032"
      },
      "execution_count": null,
      "outputs": [
        {
          "output_type": "stream",
          "name": "stdout",
          "text": [
            "Glenn\n"
          ]
        }
      ]
    },
    {
      "cell_type": "markdown",
      "source": [
        "### Mutable or not"
      ],
      "metadata": {
        "id": "pszwLVue-Gke"
      }
    },
    {
      "cell_type": "code",
      "source": [
        "fruit = \"Banana\"\n",
        "#fruit[0] = 'b' # String is immutable\n",
        "\n",
        "x=fruit.lower()\n",
        "print(x)"
      ],
      "metadata": {
        "colab": {
          "base_uri": "https://localhost:8080/"
        },
        "id": "WZe2ybOF9mZC",
        "outputId": "2d7103d8-e1aa-4e61-947b-cb03b57e0d80"
      },
      "execution_count": null,
      "outputs": [
        {
          "output_type": "stream",
          "name": "stdout",
          "text": [
            "banana\n"
          ]
        }
      ]
    },
    {
      "cell_type": "code",
      "source": [
        "lotto = [2,14,26,41,63]\n",
        "print(lotto)\n",
        "\n",
        "lotto[2] = 28 # List is mutable\n",
        "print(lotto)\n",
        "lotto.append(\"sanchita\")\n",
        "print(lotto)\n",
        "lotto[-1] = \"Hello\"\n",
        "print(lotto)\n",
        "lotto[-1] = 1\n",
        "print(lotto)\n"
      ],
      "metadata": {
        "colab": {
          "base_uri": "https://localhost:8080/"
        },
        "id": "fk3CAOVe-PJK",
        "outputId": "eed7ae25-7784-44c0-815c-d237093dac94"
      },
      "execution_count": null,
      "outputs": [
        {
          "output_type": "stream",
          "name": "stdout",
          "text": [
            "[2, 14, 26, 41, 63]\n",
            "[2, 14, 28, 41, 63]\n",
            "[2, 14, 28, 41, 63, 'sanchita']\n",
            "[2, 14, 28, 41, 63, 'Hello']\n",
            "[2, 14, 28, 41, 63, 1]\n"
          ]
        }
      ]
    },
    {
      "cell_type": "markdown",
      "source": [
        "## Length"
      ],
      "metadata": {
        "id": "5O8JkuUf_9ST"
      }
    },
    {
      "cell_type": "code",
      "source": [
        "greek =\"Hello Bob\"\n",
        "print(len(greek))\n",
        "\n",
        "x= [1,2,\"joe\", 99]\n",
        "print(len(x))\n",
        "\n",
        "print([*range(4)])\n",
        "\n",
        "for i in range(len(friends)):\n",
        "  friend=friends[i]\n",
        "  print('Happy New Year: ', friend)"
      ],
      "metadata": {
        "colab": {
          "base_uri": "https://localhost:8080/"
        },
        "id": "O1SrLeNV-rFl",
        "outputId": "8403cb99-3dcc-4962-cfa8-e5e2ba2c112c"
      },
      "execution_count": null,
      "outputs": [
        {
          "output_type": "stream",
          "name": "stdout",
          "text": [
            "9\n",
            "4\n",
            "[0, 1, 2, 3]\n",
            "Happy New Year:  joseph\n",
            "Happy New Year:  Glenn\n",
            "Happy New Year:  Sally\n"
          ]
        }
      ]
    },
    {
      "cell_type": "markdown",
      "source": [
        "## Concate"
      ],
      "metadata": {
        "id": "tvFQ5hN_CBVI"
      }
    },
    {
      "cell_type": "code",
      "source": [
        "a =[1,2,3]\n",
        "b=[4,5,6]\n",
        "c=a+b\n",
        "\n",
        "print(c)\n",
        "print(a)\n",
        "\n",
        "d = c+[7,8]\n",
        "print(d)"
      ],
      "metadata": {
        "colab": {
          "base_uri": "https://localhost:8080/"
        },
        "id": "fjxEB8CaAHCO",
        "outputId": "8cd7728c-f27e-4a76-a9f1-8de13678a62b"
      },
      "execution_count": null,
      "outputs": [
        {
          "output_type": "stream",
          "name": "stdout",
          "text": [
            "[1, 2, 3, 4, 5, 6]\n",
            "[1, 2, 3]\n",
            "[1, 2, 3, 4, 5, 6, 7, 8]\n"
          ]
        }
      ]
    },
    {
      "cell_type": "code",
      "source": [],
      "metadata": {
        "id": "n7BWxCqWCsmt"
      },
      "execution_count": null,
      "outputs": []
    },
    {
      "cell_type": "markdown",
      "source": [
        "## Slicing"
      ],
      "metadata": {
        "id": "RjleRau2CtBT"
      }
    },
    {
      "cell_type": "code",
      "source": [
        "t =[9,41,12,3,74,15]\n",
        "print(t[1:3])\n",
        "print(t[:4])\n",
        "\n",
        "print(t[3:])\n",
        "print(t[0:len(t):2])\n",
        "print(t[:1:])"
      ],
      "metadata": {
        "colab": {
          "base_uri": "https://localhost:8080/"
        },
        "id": "NbmTxFRrCOv6",
        "outputId": "22070b38-f001-4d19-d0fc-794403d0873d"
      },
      "execution_count": null,
      "outputs": [
        {
          "output_type": "stream",
          "name": "stdout",
          "text": [
            "[41, 12]\n",
            "[9, 41, 12, 3]\n",
            "[3, 74, 15]\n",
            "[9, 12, 74]\n",
            "[9]\n"
          ]
        }
      ]
    },
    {
      "cell_type": "markdown",
      "source": [
        "## List methods"
      ],
      "metadata": {
        "id": "c2-haMCYERes"
      }
    },
    {
      "cell_type": "code",
      "source": [
        "x=[1,2,3]\n",
        "print(type(x))\n",
        "print(dir(x))"
      ],
      "metadata": {
        "colab": {
          "base_uri": "https://localhost:8080/"
        },
        "id": "5LOlN0O-C70Q",
        "outputId": "5cbb60ae-6896-4b93-e1ad-b099a43062db"
      },
      "execution_count": null,
      "outputs": [
        {
          "output_type": "stream",
          "name": "stdout",
          "text": [
            "<class 'list'>\n",
            "['__add__', '__class__', '__class_getitem__', '__contains__', '__delattr__', '__delitem__', '__dir__', '__doc__', '__eq__', '__format__', '__ge__', '__getattribute__', '__getitem__', '__gt__', '__hash__', '__iadd__', '__imul__', '__init__', '__init_subclass__', '__iter__', '__le__', '__len__', '__lt__', '__mul__', '__ne__', '__new__', '__reduce__', '__reduce_ex__', '__repr__', '__reversed__', '__rmul__', '__setattr__', '__setitem__', '__sizeof__', '__str__', '__subclasshook__', 'append', 'clear', 'copy', 'count', 'extend', 'index', 'insert', 'pop', 'remove', 'reverse', 'sort']\n"
          ]
        }
      ]
    },
    {
      "cell_type": "code",
      "source": [
        "stuff = list()\n",
        "stuff.append(\"book\")\n",
        "stuff.append(99)\n",
        "\n",
        "print(stuff)\n",
        "\n",
        "stuff.append(\"cookie\")\n",
        "print(stuff)\n",
        "\n",
        "stuff.remove(99)\n",
        "print(stuff)"
      ],
      "metadata": {
        "colab": {
          "base_uri": "https://localhost:8080/"
        },
        "id": "ccRNtFRdEWwY",
        "outputId": "e172966f-b8ed-444b-ef08-3d4504b49636"
      },
      "execution_count": null,
      "outputs": [
        {
          "output_type": "stream",
          "name": "stdout",
          "text": [
            "['book', 99]\n",
            "['book', 99, 'cookie']\n",
            "['book', 'cookie']\n"
          ]
        }
      ]
    },
    {
      "cell_type": "markdown",
      "source": [
        "## \"in\" list or not"
      ],
      "metadata": {
        "id": "3tvUQ8fGF0kl"
      }
    },
    {
      "cell_type": "code",
      "source": [
        "some =[1,9,21,10,16]\n",
        "print(9 in some)\n",
        "\n",
        "print(15 in some)\n",
        "\n",
        "print(20 not in some)\n",
        "\n",
        "\n",
        "some.append(\"sam\")\n",
        "print(some)\n",
        "print(\"sam\" in some)"
      ],
      "metadata": {
        "colab": {
          "base_uri": "https://localhost:8080/"
        },
        "id": "zody3kwOE4mv",
        "outputId": "3bd3d13d-7fa0-4fa1-a2dd-a1688c329995"
      },
      "execution_count": null,
      "outputs": [
        {
          "output_type": "stream",
          "name": "stdout",
          "text": [
            "True\n",
            "False\n",
            "True\n",
            "[1, 9, 21, 10, 16, 'sam']\n",
            "True\n"
          ]
        }
      ]
    },
    {
      "cell_type": "markdown",
      "source": [
        "## Ordered sequence"
      ],
      "metadata": {
        "id": "8Y89gI5oG8cA"
      }
    },
    {
      "cell_type": "code",
      "source": [
        "friends = ['joseph', 'Glenn', 'Sally']\n",
        "print(friends)\n",
        "friends.sort()\n",
        "\n",
        "print(friends)\n",
        "print(friends[1])"
      ],
      "metadata": {
        "colab": {
          "base_uri": "https://localhost:8080/"
        },
        "id": "UDno0wNrGBDK",
        "outputId": "c008b994-1fb0-4175-ab0e-5d2a62119d5e"
      },
      "execution_count": null,
      "outputs": [
        {
          "output_type": "stream",
          "name": "stdout",
          "text": [
            "['joseph', 'Glenn', 'Sally']\n",
            "['Glenn', 'Sally', 'joseph']\n",
            "Sally\n"
          ]
        }
      ]
    },
    {
      "cell_type": "code",
      "source": [
        "some =[1,9,21,10,16]\n",
        "some.sort()\n",
        "print(some)"
      ],
      "metadata": {
        "colab": {
          "base_uri": "https://localhost:8080/"
        },
        "id": "nOnRjdQUHDDR",
        "outputId": "e1aa7427-1a7d-495a-df01-04d713198475"
      },
      "execution_count": null,
      "outputs": [
        {
          "output_type": "stream",
          "name": "stdout",
          "text": [
            "[1, 9, 10, 16, 21]\n"
          ]
        }
      ]
    },
    {
      "cell_type": "markdown",
      "source": [
        "## Functions and list\n"
      ],
      "metadata": {
        "id": "cGMSnTJDIDIm"
      }
    },
    {
      "cell_type": "code",
      "source": [
        "nums = [3,41,12,9,74,15]\n",
        "\n",
        "print(len(nums))\n",
        "\n",
        "print(max(nums))\n",
        "\n",
        "print(min(nums))\n",
        "\n",
        "print(sum(nums))\n",
        "\n",
        "print(sum(nums)/len(nums))"
      ],
      "metadata": {
        "colab": {
          "base_uri": "https://localhost:8080/"
        },
        "id": "7RpggjYXHduu",
        "outputId": "251211a3-6e67-4f4f-e7d5-408b2676f772"
      },
      "execution_count": null,
      "outputs": [
        {
          "output_type": "stream",
          "name": "stdout",
          "text": [
            "6\n",
            "74\n",
            "3\n",
            "154\n",
            "25.666666666666668\n"
          ]
        }
      ]
    },
    {
      "cell_type": "markdown",
      "source": [
        "## String and list"
      ],
      "metadata": {
        "id": "iIFFJS6ELAzn"
      }
    },
    {
      "cell_type": "code",
      "source": [
        "abc = 'With three words'\n",
        "stuff = abc.split()\n",
        "\n",
        "print(stuff)\n",
        "print(len(stuff))\n",
        "print(stuff[0])"
      ],
      "metadata": {
        "colab": {
          "base_uri": "https://localhost:8080/"
        },
        "id": "OT1_iQ8uIpo0",
        "outputId": "0c21a5ff-1b73-4062-b7cd-39e90582b2ac"
      },
      "execution_count": null,
      "outputs": [
        {
          "output_type": "stream",
          "name": "stdout",
          "text": [
            "['With', 'three', 'words']\n",
            "3\n",
            "With\n"
          ]
        }
      ]
    },
    {
      "cell_type": "code",
      "source": [
        "line = 'A lot                of spaces'\n",
        "etc=line.split()\n",
        "print(etc)\n",
        "\n",
        "line ='first;second;third'\n",
        "thing = line.split()\n",
        "print(thing)\n",
        "print(len(thing))\n",
        "\n",
        "thing = line.split(\";\")\n",
        "print(thing)\n",
        "print(len(thing))"
      ],
      "metadata": {
        "colab": {
          "base_uri": "https://localhost:8080/"
        },
        "id": "Rh5e_wSyLy0I",
        "outputId": "340a7600-24c0-45af-87ab-a9822fd3c063"
      },
      "execution_count": null,
      "outputs": [
        {
          "output_type": "stream",
          "name": "stdout",
          "text": [
            "['A', 'lot', 'of', 'spaces']\n",
            "['first;second;third']\n",
            "1\n",
            "['first', 'second', 'third']\n",
            "3\n"
          ]
        }
      ]
    },
    {
      "cell_type": "code",
      "source": [
        "\n"
      ],
      "metadata": {
        "id": "61F24o0ZMmsc"
      },
      "execution_count": null,
      "outputs": []
    }
  ]
}